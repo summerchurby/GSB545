{
 "cells": [
  {
   "cell_type": "raw",
   "metadata": {},
   "source": [
    "---\n",
    "title: PA - Bagging\n",
    "author: Summer Churby\n",
    "format: \n",
    "        html: \n",
    "            toc: true\n",
    "            code-fold: true\n",
    "embed-resources: true\n",
    "---"
   ]
  },
  {
   "cell_type": "markdown",
   "metadata": {},
   "source": [
    "The data and variables names are in different files; you will likely need them both. The goal here is to predict the age of the abalone using the other variables in the dataset because the traditional method for aging these organisms is boring and tedious.\n",
    "\n",
    "There are two challenges (in my opinion):\n",
    "\n",
    "1. You should try to build the best, bagging-based model (this includes random forests) to predict age.\n",
    "\n",
    "2. The UC Irvine Machine Learning Repository classifies this dataset as a \"classification\" dataset, but age is stored as a numeric (albeit discrete-valued) variable. So, I think it could maybe be reasonable to treat this as a regression problem. It's up to you!"
   ]
  },
  {
   "cell_type": "code",
   "execution_count": 7,
   "metadata": {},
   "outputs": [
    {
     "name": "stdout",
     "output_type": "stream",
     "text": [
      "Collecting ucimlrepo\n",
      "  Downloading ucimlrepo-0.0.7-py3-none-any.whl.metadata (5.5 kB)\n",
      "Collecting pandas>=1.0.0 (from ucimlrepo)\n",
      "  Downloading pandas-2.2.3-cp312-cp312-win_amd64.whl.metadata (19 kB)\n",
      "Collecting certifi>=2020.12.5 (from ucimlrepo)\n",
      "  Downloading certifi-2025.1.31-py3-none-any.whl.metadata (2.5 kB)\n",
      "Collecting numpy>=1.26.0 (from pandas>=1.0.0->ucimlrepo)\n",
      "  Downloading numpy-2.2.4-cp312-cp312-win_amd64.whl.metadata (60 kB)\n",
      "Requirement already satisfied: python-dateutil>=2.8.2 in c:\\program files\\positron\\resources\\app\\extensions\\positron-python\\python_files\\lib\\ipykernel\\py3 (from pandas>=1.0.0->ucimlrepo) (2.9.0.post0)\n",
      "Collecting pytz>=2020.1 (from pandas>=1.0.0->ucimlrepo)\n",
      "  Downloading pytz-2025.2-py2.py3-none-any.whl.metadata (22 kB)\n",
      "Collecting tzdata>=2022.7 (from pandas>=1.0.0->ucimlrepo)\n",
      "  Downloading tzdata-2025.2-py2.py3-none-any.whl.metadata (1.4 kB)\n",
      "Requirement already satisfied: six>=1.5 in c:\\program files\\positron\\resources\\app\\extensions\\positron-python\\python_files\\lib\\ipykernel\\py3 (from python-dateutil>=2.8.2->pandas>=1.0.0->ucimlrepo) (1.17.0)\n",
      "Downloading ucimlrepo-0.0.7-py3-none-any.whl (8.0 kB)\n",
      "Downloading certifi-2025.1.31-py3-none-any.whl (166 kB)\n",
      "Downloading pandas-2.2.3-cp312-cp312-win_amd64.whl (11.5 MB)\n",
      "   ---------------------------------------- 0.0/11.5 MB ? eta -:--:--\n",
      "   -- ------------------------------------- 0.8/11.5 MB 16.9 MB/s eta 0:00:01\n",
      "   ---- ----------------------------------- 1.3/11.5 MB 6.7 MB/s eta 0:00:02\n",
      "   ---- ----------------------------------- 1.3/11.5 MB 6.7 MB/s eta 0:00:02\n",
      "   ---- ----------------------------------- 1.3/11.5 MB 6.7 MB/s eta 0:00:02\n",
      "   ---- ----------------------------------- 1.3/11.5 MB 6.7 MB/s eta 0:00:02\n",
      "   ------- -------------------------------- 2.1/11.5 MB 1.8 MB/s eta 0:00:06\n",
      "   ------- -------------------------------- 2.1/11.5 MB 1.8 MB/s eta 0:00:06\n",
      "   ------- -------------------------------- 2.1/11.5 MB 1.8 MB/s eta 0:00:06\n",
      "   ------- -------------------------------- 2.1/11.5 MB 1.8 MB/s eta 0:00:06\n",
      "   ------- -------------------------------- 2.1/11.5 MB 1.8 MB/s eta 0:00:06\n",
      "   ------- -------------------------------- 2.1/11.5 MB 1.8 MB/s eta 0:00:06\n",
      "   ------- -------------------------------- 2.1/11.5 MB 1.8 MB/s eta 0:00:06\n",
      "   ---------- ----------------------------- 2.9/11.5 MB 1.0 MB/s eta 0:00:09\n",
      "   -------------- ------------------------- 4.2/11.5 MB 1.4 MB/s eta 0:00:06\n",
      "   -------------------- ------------------- 6.0/11.5 MB 1.9 MB/s eta 0:00:03\n",
      "   ---------------------------- ----------- 8.1/11.5 MB 2.4 MB/s eta 0:00:02\n",
      "   ---------------------------------- ----- 10.0/11.5 MB 2.8 MB/s eta 0:00:01\n",
      "   -------------------------------------- - 11.0/11.5 MB 2.9 MB/s eta 0:00:01\n",
      "   ---------------------------------------- 11.5/11.5 MB 2.9 MB/s eta 0:00:00\n",
      "Downloading numpy-2.2.4-cp312-cp312-win_amd64.whl (12.6 MB)\n",
      "   ---------------------------------------- 0.0/12.6 MB ? eta -:--:--\n",
      "   ---------- ----------------------------- 3.4/12.6 MB 14.4 MB/s eta 0:00:01\n",
      "   ------------------ --------------------- 5.8/12.6 MB 14.1 MB/s eta 0:00:01\n",
      "   ------------------ --------------------- 5.8/12.6 MB 14.1 MB/s eta 0:00:01\n",
      "   ------------------ --------------------- 5.8/12.6 MB 14.1 MB/s eta 0:00:01\n",
      "   ------------------ --------------------- 5.8/12.6 MB 14.1 MB/s eta 0:00:01\n",
      "   ------------------ --------------------- 5.8/12.6 MB 14.1 MB/s eta 0:00:01\n",
      "   ------------------ --------------------- 5.8/12.6 MB 14.1 MB/s eta 0:00:01\n",
      "   ------------------- -------------------- 6.0/12.6 MB 3.8 MB/s eta 0:00:02\n",
      "   -------------------- ------------------- 6.6/12.6 MB 3.3 MB/s eta 0:00:02\n",
      "   ------------------------- -------------- 8.1/12.6 MB 3.7 MB/s eta 0:00:02\n",
      "   ---------------------------------- ----- 10.7/12.6 MB 4.5 MB/s eta 0:00:01\n",
      "   -------------------------------------- - 12.3/12.6 MB 4.7 MB/s eta 0:00:01\n",
      "   ---------------------------------------  12.6/12.6 MB 4.5 MB/s eta 0:00:01\n",
      "   ---------------------------------------- 12.6/12.6 MB 4.2 MB/s eta 0:00:00\n",
      "Downloading pytz-2025.2-py2.py3-none-any.whl (509 kB)\n",
      "Downloading tzdata-2025.2-py2.py3-none-any.whl (347 kB)\n",
      "Installing collected packages: pytz, tzdata, numpy, certifi, pandas, ucimlrepo\n",
      "Successfully installed certifi-2025.1.31 numpy-2.2.4 pandas-2.2.3 pytz-2025.2 tzdata-2025.2 ucimlrepo-0.0.7\n",
      "Note: you may need to restart the kernel to use updated packages.\n"
     ]
    },
    {
     "name": "stderr",
     "output_type": "stream",
     "text": [
      "  WARNING: The scripts f2py.exe and numpy-config.exe are installed in 'C:\\Users\\achur\\AppData\\Local\\Programs\\Python\\Python312\\Scripts' which is not on PATH.\n",
      "  Consider adding this directory to PATH or, if you prefer to suppress this warning, use --no-warn-script-location.\n",
      "\n",
      "[notice] A new release of pip is available: 24.2 -> 25.0.1\n",
      "[notice] To update, run: C:\\Users\\achur\\AppData\\Local\\Programs\\Python\\Python312\\python.exe -m pip install --upgrade pip\n"
     ]
    }
   ],
   "source": [
    "pip install ucimlrepo"
   ]
  },
  {
   "cell_type": "code",
   "execution_count": 20,
   "metadata": {},
   "outputs": [
    {
     "name": "stdout",
     "output_type": "stream",
     "text": [
      "{'uci_id': 1, 'name': 'Abalone', 'repository_url': 'https://archive.ics.uci.edu/dataset/1/abalone', 'data_url': 'https://archive.ics.uci.edu/static/public/1/data.csv', 'abstract': 'Predict the age of abalone from physical measurements', 'area': 'Biology', 'tasks': ['Classification', 'Regression'], 'characteristics': ['Tabular'], 'num_instances': 4177, 'num_features': 8, 'feature_types': ['Categorical', 'Integer', 'Real'], 'demographics': [], 'target_col': ['Rings'], 'index_col': None, 'has_missing_values': 'no', 'missing_values_symbol': None, 'year_of_dataset_creation': 1994, 'last_updated': 'Mon Aug 28 2023', 'dataset_doi': '10.24432/C55C7W', 'creators': ['Warwick Nash', 'Tracy Sellers', 'Simon Talbot', 'Andrew Cawthorn', 'Wes Ford'], 'intro_paper': None, 'additional_info': {'summary': 'Predicting the age of abalone from physical measurements.  The age of abalone is determined by cutting the shell through the cone, staining it, and counting the number of rings through a microscope -- a boring and time-consuming task.  Other measurements, which are easier to obtain, are used to predict the age.  Further information, such as weather patterns and location (hence food availability) may be required to solve the problem.\\r\\n\\r\\nFrom the original data examples with missing values were removed (the majority having the predicted value missing), and the ranges of the continuous values have been scaled for use with an ANN (by dividing by 200).', 'purpose': None, 'funded_by': None, 'instances_represent': None, 'recommended_data_splits': None, 'sensitive_data': None, 'preprocessing_description': None, 'variable_info': 'Given is the attribute name, attribute type, the measurement unit and a brief description.  The number of rings is the value to predict: either as a continuous value or as a classification problem.\\r\\n\\r\\nName / Data Type / Measurement Unit / Description\\r\\n-----------------------------\\r\\nSex / nominal / -- / M, F, and I (infant)\\r\\nLength / continuous / mm / Longest shell measurement\\r\\nDiameter\\t/ continuous / mm / perpendicular to length\\r\\nHeight / continuous / mm / with meat in shell\\r\\nWhole weight / continuous / grams / whole abalone\\r\\nShucked weight / continuous\\t / grams / weight of meat\\r\\nViscera weight / continuous / grams / gut weight (after bleeding)\\r\\nShell weight / continuous / grams / after being dried\\r\\nRings / integer / -- / +1.5 gives the age in years\\r\\n\\r\\nThe readme file contains attribute statistics.', 'citation': None}}\n",
      "             name     role         type demographic  \\\n",
      "0             Sex  Feature  Categorical        None   \n",
      "1          Length  Feature   Continuous        None   \n",
      "2        Diameter  Feature   Continuous        None   \n",
      "3          Height  Feature   Continuous        None   \n",
      "4    Whole_weight  Feature   Continuous        None   \n",
      "5  Shucked_weight  Feature   Continuous        None   \n",
      "6  Viscera_weight  Feature   Continuous        None   \n",
      "7    Shell_weight  Feature   Continuous        None   \n",
      "8           Rings   Target      Integer        None   \n",
      "\n",
      "                   description  units missing_values  \n",
      "0         M, F, and I (infant)   None             no  \n",
      "1    Longest shell measurement     mm             no  \n",
      "2      perpendicular to length     mm             no  \n",
      "3           with meat in shell     mm             no  \n",
      "4                whole abalone  grams             no  \n",
      "5               weight of meat  grams             no  \n",
      "6  gut weight (after bleeding)  grams             no  \n",
      "7            after being dried  grams             no  \n",
      "8  +1.5 gives the age in years   None             no  \n"
     ]
    }
   ],
   "source": [
    "# install package\n",
    "\n",
    "from ucimlrepo import fetch_ucirepo \n",
    "import pandas as pd\n",
    "import numpy as np\n",
    "  \n",
    "# fetch dataset \n",
    "abalone = fetch_ucirepo(id=1) \n",
    "  \n",
    "# data (as pandas dataframes) \n",
    "X = abalone.data.features \n",
    "y = abalone.data.targets \n",
    "  \n",
    "# metadata \n",
    "print(abalone.metadata) \n",
    "  \n",
    "# variable information \n",
    "print(abalone.variables) \n",
    "\n",
    "X = pd.get_dummies(X)\n"
   ]
  },
  {
   "cell_type": "markdown",
   "metadata": {},
   "source": [
    "## Bagging model:"
   ]
  },
  {
   "cell_type": "code",
   "execution_count": 12,
   "metadata": {},
   "outputs": [
    {
     "name": "stdout",
     "output_type": "stream",
     "text": [
      "Note: you may need to restart the kernel to use updated packages.Collecting scikit-learn\n",
      "  Downloading scikit_learn-1.6.1-cp312-cp312-win_amd64.whl.metadata (15 kB)\n",
      "Requirement already satisfied: numpy>=1.19.5 in c:\\users\\achur\\appdata\\local\\programs\\python\\python312\\lib\\site-packages (from scikit-learn) (2.2.4)\n",
      "Collecting scipy>=1.6.0 (from scikit-learn)\n",
      "  Downloading scipy-1.15.2-cp312-cp312-win_amd64.whl.metadata (60 kB)\n",
      "Collecting joblib>=1.2.0 (from scikit-learn)\n",
      "  Downloading joblib-1.4.2-py3-none-any.whl.metadata (5.4 kB)\n",
      "Collecting threadpoolctl>=3.1.0 (from scikit-learn)\n",
      "  Downloading threadpoolctl-3.6.0-py3-none-any.whl.metadata (13 kB)\n",
      "Downloading scikit_learn-1.6.1-cp312-cp312-win_amd64.whl (11.1 MB)\n",
      "   ---------------------------------------- 0.0/11.1 MB ? eta -:--:--\n",
      "   ----------------- ---------------------- 5.0/11.1 MB 23.2 MB/s eta 0:00:01\n",
      "   --------------------------------- ------ 9.4/11.1 MB 22.6 MB/s eta 0:00:01\n",
      "   ------------------------------------ --- 10.2/11.1 MB 19.9 MB/s eta 0:00:01\n",
      "   ------------------------------------- -- 10.5/11.1 MB 14.9 MB/s eta 0:00:01\n",
      "   ---------------------------------------  11.0/11.1 MB 10.9 MB/s eta 0:00:01\n",
      "   ---------------------------------------  11.0/11.1 MB 10.9 MB/s eta 0:00:01\n",
      "   ---------------------------------------- 11.1/11.1 MB 7.2 MB/s eta 0:00:00\n",
      "Downloading joblib-1.4.2-py3-none-any.whl (301 kB)\n",
      "Downloading scipy-1.15.2-cp312-cp312-win_amd64.whl (40.9 MB)\n",
      "   ---------------------------------------- 0.0/40.9 MB ? eta -:--:--\n",
      "    --------------------------------------- 0.8/40.9 MB 4.2 MB/s eta 0:00:10\n",
      "   -- ------------------------------------- 2.1/40.9 MB 5.1 MB/s eta 0:00:08\n",
      "   --- ------------------------------------ 3.7/40.9 MB 6.1 MB/s eta 0:00:07\n",
      "   ----- ---------------------------------- 5.2/40.9 MB 6.5 MB/s eta 0:00:06\n",
      "   ------ --------------------------------- 6.8/40.9 MB 6.7 MB/s eta 0:00:06\n",
      "   ------- -------------------------------- 8.1/40.9 MB 6.5 MB/s eta 0:00:06\n",
      "   --------- ------------------------------ 9.4/40.9 MB 6.5 MB/s eta 0:00:05\n",
      "   ---------- ----------------------------- 10.7/40.9 MB 6.3 MB/s eta 0:00:05\n",
      "   ----------- ---------------------------- 12.1/40.9 MB 6.4 MB/s eta 0:00:05\n",
      "   ------------ --------------------------- 12.8/40.9 MB 6.1 MB/s eta 0:00:05\n",
      "   ------------- -------------------------- 13.6/40.9 MB 5.9 MB/s eta 0:00:05\n",
      "   -------------- ------------------------- 14.7/40.9 MB 5.8 MB/s eta 0:00:05\n",
      "   --------------- ------------------------ 16.0/40.9 MB 5.9 MB/s eta 0:00:05\n",
      "   ----------------- ---------------------- 17.6/40.9 MB 5.9 MB/s eta 0:00:04\n",
      "   ------------------ --------------------- 19.4/40.9 MB 6.1 MB/s eta 0:00:04\n",
      "   -------------------- ------------------- 21.2/40.9 MB 6.2 MB/s eta 0:00:04\n",
      "   ----------------------- ---------------- 23.6/40.9 MB 6.5 MB/s eta 0:00:03\n",
      "   ------------------------- -------------- 26.2/40.9 MB 6.8 MB/s eta 0:00:03\n",
      "   ---------------------------- ----------- 28.8/40.9 MB 7.1 MB/s eta 0:00:02\n",
      "   ----------------------------- ---------- 30.7/40.9 MB 7.2 MB/s eta 0:00:02\n",
      "   ------------------------------- -------- 32.5/40.9 MB 7.2 MB/s eta 0:00:02\n",
      "   --------------------------------- ------ 34.1/40.9 MB 7.2 MB/s eta 0:00:01\n",
      "   ----------------------------------- ---- 36.4/40.9 MB 7.4 MB/s eta 0:00:01\n",
      "   -------------------------------------- - 39.1/40.9 MB 7.6 MB/s eta 0:00:01\n",
      "   ---------------------------------------  40.9/40.9 MB 7.6 MB/s eta 0:00:01\n",
      "   ---------------------------------------  40.9/40.9 MB 7.6 MB/s eta 0:00:01\n",
      "   ---------------------------------------  40.9/40.9 MB 7.6 MB/s eta 0:00:01\n",
      "   ---------------------------------------- 40.9/40.9 MB 6.9 MB/s eta 0:00:00\n",
      "Downloading threadpoolctl-3.6.0-py3-none-any.whl (18 kB)\n",
      "Installing collected packages: threadpoolctl, scipy, joblib, scikit-learn\n",
      "Successfully installed joblib-1.4.2 scikit-learn-1.6.1 scipy-1.15.2 threadpoolctl-3.6.0\n",
      "\n"
     ]
    },
    {
     "name": "stderr",
     "output_type": "stream",
     "text": [
      "\n",
      "[notice] A new release of pip is available: 24.2 -> 25.0.1\n",
      "[notice] To update, run: C:\\Users\\achur\\AppData\\Local\\Programs\\Python\\Python312\\python.exe -m pip install --upgrade pip\n"
     ]
    }
   ],
   "source": [
    "pip install scikit-learn"
   ]
  },
  {
   "cell_type": "code",
   "execution_count": 13,
   "metadata": {},
   "outputs": [],
   "source": [
    "from numpy import mean\n",
    "from numpy import std\n",
    "from sklearn.datasets import make_regression\n",
    "from sklearn.model_selection import cross_val_score\n",
    "from sklearn.model_selection import RepeatedKFold\n",
    "from sklearn.ensemble import BaggingRegressor"
   ]
  },
  {
   "cell_type": "code",
   "execution_count": 22,
   "metadata": {},
   "outputs": [
    {
     "name": "stdout",
     "output_type": "stream",
     "text": [
      "MAE: -1.553 (0.072)\n"
     ]
    }
   ],
   "source": [
    "\n",
    "model = BaggingRegressor(n_estimators = 50)\n",
    "# evaluate the model\n",
    "cv = RepeatedKFold(n_splits=10, n_repeats=3, random_state=1)\n",
    "n_scores = cross_val_score(model, X, y, scoring='neg_mean_absolute_error', cv=cv, n_jobs=-1, error_score='raise')\n",
    "# report performance\n",
    "print('MAE: %.3f (%.3f)' % (mean(n_scores), std(n_scores)))"
   ]
  },
  {
   "cell_type": "code",
   "execution_count": 26,
   "metadata": {},
   "outputs": [
    {
     "name": "stdout",
     "output_type": "stream",
     "text": [
      "9.942312664591812\n"
     ]
    }
   ],
   "source": [
    "# make predictions\n",
    "model.fit(X,y)\n",
    "predictions = model.predict(X)\n",
    "avg_predictions = mean(predictions)\n",
    "print(avg_predictions)"
   ]
  },
  {
   "cell_type": "markdown",
   "metadata": {},
   "source": [
    "The average age of the abalone is 9.942."
   ]
  }
 ],
 "metadata": {
  "language_info": {
   "name": "python"
  }
 },
 "nbformat": 4,
 "nbformat_minor": 2
}
