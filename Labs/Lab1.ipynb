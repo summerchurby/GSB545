{
 "cells": [
  {
   "cell_type": "markdown",
   "metadata": {},
   "source": [
    "# Lab 1"
   ]
  },
  {
   "cell_type": "code",
   "execution_count": 1,
   "metadata": {},
   "outputs": [],
   "source": [
    "import pandas as pd\n",
    "\n",
    "# load in files\n",
    "april_df = pd.read_csv(r\"C:\\Users\\achur\\OneDrive\\Desktop\\School\\CP Spring 2024\\545\\GSB545\\Labs\\April sleep data - Sheet1.csv\")\n",
    "december_df = pd.read_csv(r\"C:\\Users\\achur\\OneDrive\\Desktop\\School\\CP Spring 2024\\545\\GSB545\\Labs\\December Sleep data - Sheet1.csv\")\n",
    "february_df = pd.read_csv(r\"C:\\Users\\achur\\OneDrive\\Desktop\\School\\CP Spring 2024\\545\\GSB545\\Labs\\February sleep data - Sheet1 (1).csv\")\n",
    "january_df = pd.read_csv(r\"C:\\Users\\achur\\OneDrive\\Desktop\\School\\CP Spring 2024\\545\\GSB545\\Labs\\January sleep data - Sheet1.csv\")\n",
    "march_df = pd.read_csv(r\"C:\\Users\\achur\\OneDrive\\Desktop\\School\\CP Spring 2024\\545\\GSB545\\Labs\\March sleep data - Sheet1.csv\")\n",
    "november_df = pd.read_csv(r\"C:\\Users\\achur\\OneDrive\\Desktop\\School\\CP Spring 2024\\545\\GSB545\\Labs\\November Sleep Data - Sheet1.csv\")"
   ]
  },
  {
   "cell_type": "code",
   "execution_count": 12,
   "metadata": {},
   "outputs": [],
   "source": [
    "# clean data\n",
    "\n",
    "# rename sleep score in feb df\n",
    "february_df.rename(columns={\"SLEEP SQORE\": \"SLEEP SCORE\"}, inplace=True)\n",
    "\n",
    "# rename the february column\n",
    "february_df.rename(columns={\"FEBEUARY\": \"FEBRUARY\"}, inplace=True)\n",
    "\n",
    "# rename column for days of the week\n",
    "february_df.rename(columns={\"FEBRUARY\": \"DAYS OF THE WEEK\"}, inplace=True)\n",
    "april_df.rename(columns={\"APRIL\": \"DAYS OF THE WEEK\"}, inplace=True)\n",
    "december_df.rename(columns={\"DECEMBER\": \"DAYS OF THE WEEK\"}, inplace=True)\n",
    "january_df.rename(columns={\"JANUARY\": \"DAYS OF THE WEEK\"}, inplace=True)\n",
    "march_df.rename(columns={\"MARCH\": \"DAYS OF THE WEEK\"}, inplace=True)\n",
    "november_df.rename(columns={\"NOVEMBER\": \"DAYS OF THE WEEK\"}, inplace=True)\n",
    "\n",
    "# then create month column\n",
    "april_df[\"MONTH\"] = \"APRIL\"\n",
    "february_df[\"MONTH\"] = \"FEBRUARY\"\n",
    "december_df[\"MONTH\"] = \"DECEMBER\"\n",
    "january_df[\"MONTH\"] = \"JANUARY\"\n",
    "march_df[\"MONTH\"] = \"MARCH\"\n",
    "november_df[\"MONTH\"] = \"NOVEMBER\"\n",
    "\n",
    "\n",
    "# heart rate in below resting anad under resting\n",
    "january_df.rename(columns={\"HEART RATE UNDER RESTING\": \"HEART RATE BELOW RESTING\"}, inplace=True)\n",
    "\n",
    "# march for heart rate and heartrate\n",
    "march_df.rename(columns={\"HEARTRATE BELOW RESTING\": \"HEART RATE BELOW RESTING\"}, inplace=True)\n"
   ]
  },
  {
   "cell_type": "code",
   "execution_count": 13,
   "metadata": {},
   "outputs": [],
   "source": [
    "# drop na's\n",
    "april_df.dropna(inplace=True)\n",
    "february_df.dropna(inplace=True)\n",
    "december_df.dropna(inplace=True)\n",
    "january_df.dropna(inplace=True)\n",
    "march_df.dropna(inplace=True)\n",
    "november_df.dropna(inplace=True)"
   ]
  },
  {
   "cell_type": "code",
   "execution_count": 14,
   "metadata": {},
   "outputs": [],
   "source": [
    "# concat the dataframes\n",
    "df_combined = pd.concat([april_df, february_df, december_df, january_df, march_df, november_df], ignore_index=True)"
   ]
  },
  {
   "cell_type": "code",
   "execution_count": 17,
   "metadata": {},
   "outputs": [
    {
     "name": "stderr",
     "output_type": "stream",
     "text": [
      "<positron-console-cell-17>:17: UserWarning: Could not infer format, so each element will be parsed individually, falling back to `dateutil`. To ensure parsing is consistent and as-expected, please specify a format.\n",
      "<positron-console-cell-17>:18: UserWarning: Could not infer format, so each element will be parsed individually, falling back to `dateutil`. To ensure parsing is consistent and as-expected, please specify a format.\n"
     ]
    }
   ],
   "source": [
    "# fix the times\n",
    "import re\n",
    "\n",
    "df_combined[[\"SLEEP START\", \"SLEEP END\"]] = df_combined[\"SLEEP TIME\"].str.split(\" - \", expand=True)\n",
    "\n",
    "def fix_time_string(s):\n",
    "    if pd.isna(s):\n",
    "        return s\n",
    "    s = s.strip().lower()\n",
    "    s = re.sub(r\"(\\d{1,2})-(\\d{2})(am|pm)\", r\"\\1:\\2\\3\", s)  \n",
    "    s = re.sub(r\"[^\\dxapm:]\", \"\", s)  \n",
    "    return s\n",
    "\n",
    "df_combined[\"SLEEP START\"] = df_combined[\"SLEEP START\"].apply(fix_time_string)\n",
    "df_combined[\"SLEEP END\"] = df_combined[\"SLEEP END\"].apply(fix_time_string)\n",
    "\n",
    "df_combined[\"SLEEP START\"] = pd.to_datetime(df_combined[\"SLEEP START\"], errors=\"coerce\").dt.strftime(\"%H:%M\")\n",
    "df_combined[\"SLEEP END\"] = pd.to_datetime(df_combined[\"SLEEP END\"], errors=\"coerce\").dt.strftime(\"%H:%M\")"
   ]
  }
 ],
 "metadata": {
  "language_info": {
   "name": "python"
  }
 },
 "nbformat": 4,
 "nbformat_minor": 2
}
