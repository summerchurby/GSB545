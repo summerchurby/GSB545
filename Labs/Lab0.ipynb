{
 "cells": [
  {
   "cell_type": "raw",
   "metadata": {},
   "source": [
    "---\n",
    "title: Lab 0 - Personal Finance\n",
    "author: Summer Churby\n",
    "format: \n",
    "        html: \n",
    "            toc: true\n",
    "            code-fold: true\n",
    "embed-resources: true\n",
    "---"
   ]
  },
  {
   "cell_type": "markdown",
   "metadata": {},
   "source": [
    "### Question 1: What were your reasons for pursuing this MSBA program here at Cal Poly? Did you come straight from another academic program (Bachelors, Masters, etc.) or were you working before this? What program(s) or job did you come from?\n",
    "\n",
    "I chose to pursue a degree in M.S. Business Analytics because I wanted to gain specific skills, and I also did research on the salary that is expected of people that work in that specific industry. I had applied to a handful of universities in California and decided to pick Cal Poly because of the Learn by Doing motto. I had completed my undergrad degree the spring semester before the MSBA program started, and I completed a B.S. Business Administration degree with a double major in Marketing and Management with a Business Analytics minor. While in undergrad, I had 5 different internships during the course of summer breaks and during the school year."
   ]
  },
  {
   "cell_type": "markdown",
   "metadata": {},
   "source": [
    "### Question 2: What job or career do you hope to pursue after graduating from this MSBA program? Do you have particular industries or companies in mind? If so, what are they? Do you have particular places in mind that you'd like to live or work? Why are you interested in these companies, etc.?"
   ]
  },
  {
   "cell_type": "markdown",
   "metadata": {},
   "source": [
    "### Question 3: If you haven't already started thinking about your finances after graduation, let's start! You should use Python to store relevant values and perform the calculations described below:\n",
    "\n",
    "#### What is your estimate of the cost-of-living in your desired place to live, per month? You should justify this estimate by citing online sources or other relevant information. You should also break this down into component costs (e.g. housing, utilities, car, gas, internet, food, entertainment, etc.) as much as you can. \n",
    "\n",
    "* Housing: $1,500 (cost after splitting with roommate)\n",
    "* Utilities: $150\n",
    "* Car payment: non existent\n",
    "* Gas: $240\n",
    "* Insurance(Car, renters, health): $2,000/12\n",
    "* Internet: $60\n",
    "* Food: $400/ $100 a week\n",
    "* Entertainment: $200\n",
    "* Rainy Day Fund: $200\n",
    "* Student Loans: $300\n",
    "\n",
    "*The prices are based on living in So Cal in the future.\n",
    "https://www.zillow.com/irvine-ca/rentals/?searchQueryState=%7B%22pagination%22%3A%7B%7D%2C%22isMapVisible%22%3Atrue%2C%22mapBounds%22%3A%7B%22west%22%3A-118.0441036845703%2C%22east%22%3A-117.50440031542968%2C%22south%22%3A33.51690184023123%2C%22north%22%3A33.85685105990931%7D%2C%22regionSelection%22%3A%5B%7B%22regionId%22%3A52650%2C%22regionType%22%3A6%7D%5D%2C%22filterState%22%3A%7B%22fr%22%3A%7B%22value%22%3Atrue%7D%2C%22fsba%22%3A%7B%22value%22%3Afalse%7D%2C%22fsbo%22%3A%7B%22value%22%3Afalse%7D%2C%22nc%22%3A%7B%22value%22%3Afalse%7D%2C%22cmsn%22%3A%7B%22value%22%3Afalse%7D%2C%22auc%22%3A%7B%22value%22%3Afalse%7D%2C%22fore%22%3A%7B%22value%22%3Afalse%7D%2C%22beds%22%3A%7B%22min%22%3A1%7D%7D%2C%22isListVisible%22%3Atrue%2C%22mapZoom%22%3A11%2C%22usersSearchTerm%22%3A%22Irvine%20CA%22%7D\n",
    "\n",
    "* I fill up my car once a week. I get about 30 miles/gallon on the highway. Average cost to fill up is $60.\n",
    "* I mostly meal prep, so groceries are $100 a week.\n",
    "* Utilities: electricity - $50, gas - $20, misc subscriptions - $80 (what I currently pay)\n",
    "* Student loans: if the SAVE plan in eliminated, then the max student loan monthly payment would be around $300\n",
    "\n",
    "\n"
   ]
  },
  {
   "cell_type": "code",
   "execution_count": 2,
   "metadata": {},
   "outputs": [
    {
     "name": "stdout",
     "output_type": "stream",
     "text": [
      "3216.6666666666665\n"
     ]
    }
   ],
   "source": [
    "# calculate cost of living\n",
    "housing = 1500 #1500 is price after split with roommate\n",
    "utilities = 150\n",
    "gas = 240\n",
    "insurance = 2000/12\n",
    "internet = 60\n",
    "food = 400\n",
    "entertainment = 200\n",
    "emergency = 200\n",
    "studentloans = 300\n",
    "costofliv = housing + utilities + gas + insurance + internet + food + entertainment + emergency + studentloans\n",
    "print(costofliv)"
   ]
  },
  {
   "cell_type": "markdown",
   "metadata": {},
   "source": [
    "#### What is the annual salary you need to afford the costs you outlined above? This should, in essence, be the minimum salary you need to afford the life you could live happily (you could probably survive on less, but let's not get too detailed here). Be careful to consider whether you're taking taxes into account! We don't need to get too detailed here either, but you should try to estimate what your actual take-home pay is versus the gross salary that you might be presented with in the offer from your employer."
   ]
  },
  {
   "cell_type": "code",
   "execution_count": 3,
   "metadata": {},
   "outputs": [
    {
     "name": "stdout",
     "output_type": "stream",
     "text": [
      "Your estimated monthly tax amount is: $2238.46\n",
      "Your estimated monthly take-home salary is: $5261.54\n"
     ]
    }
   ],
   "source": [
    "def calculate_tax_brackets(income, brackets):\n",
    "    tax = 0\n",
    "    previous_limit = 0\n",
    "\n",
    "    for limit, rate in brackets:\n",
    "        if income > limit:\n",
    "            tax += (limit - previous_limit) * rate\n",
    "            previous_limit = limit\n",
    "        else:\n",
    "            tax += (income - previous_limit) * rate\n",
    "            break\n",
    "\n",
    "    return tax\n",
    "\n",
    "def calculate_california_taxes(annual_salary):\n",
    "    # 2024 CA tax brackets (Single filers)\n",
    "    ca_brackets = [\n",
    "        (10099, 0.01), (23942, 0.02), (37788, 0.04), (52455, 0.06),\n",
    "        (66295, 0.08), (338639, 0.093), (406364, 0.103), (677275, 0.113),\n",
    "        (1000000, 0.123), (float('inf'), 0.133)\n",
    "    ]\n",
    "\n",
    "    # 2024 federal tax brackets (Single filers)\n",
    "    fed_brackets = [\n",
    "        (11600, 0.10), (47150, 0.12), (100525, 0.22), (191950, 0.24),\n",
    "        (243725, 0.32), (609350, 0.35), (float('inf'), 0.37)\n",
    "    ]\n",
    "\n",
    "    # FICA taxes (social security + medicare)\n",
    "    social_security_tax = min(annual_salary, 168600) * 0.062  # SS capped at $168,600\n",
    "    medicare_tax = annual_salary * 0.0145\n",
    "    if annual_salary > 200000:  # Additional Medicare tax\n",
    "        medicare_tax += (annual_salary - 200000) * 0.009\n",
    "\n",
    "    # calculate taxes\n",
    "    ca_tax = calculate_tax_brackets(annual_salary, ca_brackets)\n",
    "    fed_tax = calculate_tax_brackets(annual_salary, fed_brackets)\n",
    "\n",
    "    # total tax\n",
    "    total_annual_tax = ca_tax + fed_tax + social_security_tax + medicare_tax\n",
    "    monthly_tax = total_annual_tax / 12\n",
    "\n",
    "    return monthly_tax\n",
    "\n",
    "# run code\n",
    "\n",
    "annual_salary = float(input(\"Enter your total annual salary: $\"))\n",
    "monthly_tax = calculate_california_taxes(annual_salary)\n",
    "\n",
    "print(f\"Your estimated monthly tax amount is: ${monthly_tax:.2f}\")\n",
    "\n",
    "# Calculate monthly take-home salary\n",
    "monthly_net_salary = (annual_salary / 12) - monthly_tax\n",
    "\n",
    "print(f\"Your estimated monthly take-home salary is: ${monthly_net_salary:.2f}\")"
   ]
  },
  {
   "cell_type": "code",
   "execution_count": 4,
   "metadata": {},
   "outputs": [
    {
     "name": "stdout",
     "output_type": "stream",
     "text": [
      "\n",
      "Your estimated monthly tax amount is: $2238.46\n",
      "Your estimated monthly take-home salary is: $5261.54\n",
      "Your total monthly cost of living is: $3216.67\n",
      "Your estimated leftover money after expenses is: $2044.88\n"
     ]
    }
   ],
   "source": [
    "# calculate leftover\n",
    "\n",
    "leftover_money = monthly_net_salary - costofliv\n",
    "\n",
    "# results\n",
    "print(f\"\\nYour estimated monthly tax amount is: ${monthly_tax:.2f}\")\n",
    "print(f\"Your estimated monthly take-home salary is: ${monthly_net_salary:.2f}\")\n",
    "print(f\"Your total monthly cost of living is: ${costofliv:.2f}\")\n",
    "print(f\"Your estimated leftover money after expenses is: ${leftover_money:.2f}\")"
   ]
  },
  {
   "cell_type": "code",
   "execution_count": 5,
   "metadata": {},
   "outputs": [
    {
     "name": "stdout",
     "output_type": "stream",
     "text": [
      "The minimum annual salary required to cover your expenses + 10% savings is: $60000.00\n",
      "That’s approximately $5000.00 per month before taxes.\n"
     ]
    }
   ],
   "source": [
    "def calculate_tax_brackets(income, brackets):\n",
    "    tax = 0\n",
    "    previous_limit = 0\n",
    "\n",
    "    for limit, rate in brackets:\n",
    "        if income > limit:\n",
    "            tax += (limit - previous_limit) * rate\n",
    "            previous_limit = limit\n",
    "        else:\n",
    "            tax += (income - previous_limit) * rate\n",
    "            break\n",
    "\n",
    "    return tax\n",
    "\n",
    "def calculate_california_taxes(annual_salary):\n",
    "    # 2024 CA State Tax Brackets (Single)\n",
    "    ca_brackets = [\n",
    "        (10099, 0.01), (23942, 0.02), (37788, 0.04), (52455, 0.06),\n",
    "        (66295, 0.08), (338639, 0.093), (406364, 0.103), (677275, 0.113),\n",
    "        (1000000, 0.123), (float('inf'), 0.133)\n",
    "    ]\n",
    "\n",
    "    # 2024 Federal Tax Brackets (Single)\n",
    "    fed_brackets = [\n",
    "        (11600, 0.10), (47150, 0.12), (100525, 0.22), (191950, 0.24),\n",
    "        (243725, 0.32), (609350, 0.35), (float('inf'), 0.37)\n",
    "    ]\n",
    "\n",
    "    # FICA Taxes (Social Security + Medicare)\n",
    "    social_security_tax = min(annual_salary, 168600) * 0.062  # SS cap at $168,600\n",
    "    medicare_tax = annual_salary * 0.0145\n",
    "    if annual_salary > 200000:\n",
    "        medicare_tax += (annual_salary - 200000) * 0.009  # Additional Medicare Tax\n",
    "\n",
    "    # calculate total taxes\n",
    "    ca_tax = calculate_tax_brackets(annual_salary, ca_brackets)\n",
    "    fed_tax = calculate_tax_brackets(annual_salary, fed_brackets)\n",
    "    total_annual_tax = ca_tax + fed_tax + social_security_tax + medicare_tax\n",
    "\n",
    "    return total_annual_tax / 12  # Monthly tax amount\n",
    "\n",
    "def find_minimum_salary(cost_of_living, savings_rate=0.10):\n",
    "    from math import ceil\n",
    "\n",
    "    # Start with a reasonable guess and iterate upwards\n",
    "    estimated_annual_salary = 40000  # Initial guess\n",
    "\n",
    "    while True:\n",
    "        monthly_tax = calculate_california_taxes(estimated_annual_salary)\n",
    "        monthly_income = estimated_annual_salary / 12\n",
    "        monthly_savings = monthly_income * savings_rate\n",
    "        monthly_take_home = monthly_income - monthly_tax\n",
    "\n",
    "        # Check if take-home pay covers both cost of living and savings\n",
    "        if monthly_take_home >= (cost_of_living + monthly_savings):\n",
    "            return ceil(estimated_annual_salary)  # Return rounded-up value\n",
    "\n",
    "        estimated_annual_salary += 500  # Increase estimate slightly and retry\n",
    "\n",
    "# cost of living\n",
    "costofliv = housing + utilities + gas + insurance + internet + food + entertainment + emergency + studentloans\n",
    "\n",
    "# minimum salary needed\n",
    "min_salary = find_minimum_salary(costofliv)\n",
    "\n",
    "print(f\"The minimum annual salary required to cover your expenses + 10% savings is: ${min_salary:.2f}\")\n",
    "print(f\"That’s approximately ${min_salary / 12:.2f} per month before taxes.\")\n"
   ]
  },
  {
   "cell_type": "markdown",
   "metadata": {},
   "source": [
    "#### What is the annual salary you WANT? I imagine this will be higher than what was previously mentioned. What do you want the additional income for?\n",
    "\n",
    "The annual salary that I want is $105k."
   ]
  },
  {
   "cell_type": "code",
   "execution_count": 6,
   "metadata": {},
   "outputs": [
    {
     "name": "stdout",
     "output_type": "stream",
     "text": [
      "\n",
      "Your estimated monthly tax amount is: $2732.79\n",
      "Your estimated monthly take-home salary is: $6017.21\n",
      "Your total monthly cost of living is: $3216.67\n",
      "Your estimated leftover money after expenses is: $2800.54\n"
     ]
    }
   ],
   "source": [
    "annual_salary = float(input(\"Enter your total annual salary: $\"))\n",
    "monthly_tax = calculate_california_taxes(annual_salary)\n",
    "\n",
    "\n",
    "# Calculate monthly take-home salary\n",
    "monthly_net_salary = (annual_salary / 12) - monthly_tax\n",
    "\n",
    "\n",
    "leftover_money = monthly_net_salary - costofliv\n",
    "\n",
    "# Print results\n",
    "print(f\"\\nYour estimated monthly tax amount is: ${monthly_tax:.2f}\")\n",
    "print(f\"Your estimated monthly take-home salary is: ${monthly_net_salary:.2f}\")\n",
    "print(f\"Your total monthly cost of living is: ${costofliv:.2f}\")\n",
    "print(f\"Your estimated leftover money after expenses is: ${leftover_money:.2f}\")"
   ]
  },
  {
   "cell_type": "markdown",
   "metadata": {},
   "source": [
    "#### Finally, when do you want to retire and with how much money? This is where the bulk of your computations for this assignment will be, and you may need to do some research into how these things are computed. Your job may have retirement funding built into it; it may not. Additionally, there are some calculators online that do some of these types of calculations for you. I'd like you to (re-)do these calculations as much as possible on your own in Python.\n",
    "\n",
    "I want to retire by 60, ideally. I plan to start a family in my late 20s, and I want to be retired soon after the kids would go to college, so I can travel freely and enjoy the empty nest."
   ]
  },
  {
   "cell_type": "code",
   "execution_count": 8,
   "metadata": {},
   "outputs": [
    {
     "name": "stdout",
     "output_type": "stream",
     "text": [
      "\n",
      "To retire with $2,000,000 by age 60:\n",
      "- You need to save: $11590.10 per year for retirement\n",
      "- With your current salary ($90,000.0), you are saving $15300.00 per year (12% retirement + 5% savings).\n",
      "You are on track for retirement! Keep up the good work!\n"
     ]
    }
   ],
   "source": [
    "def calculate_required_savings(target_retirement_fund, years_until_retirement, annual_return=0.07):\n",
    "    r = annual_return\n",
    "    t = years_until_retirement\n",
    "\n",
    "    annual_savings = (target_retirement_fund * r) / ((1 + r) ** t - 1)\n",
    "    return annual_savings\n",
    "\n",
    "def calculate_savings_rate(salary, retirement_rate=0.12, savings_rate=0.05):\n",
    "    \"\"\"\n",
    "    Calculates the total amount saved annually based on salary.\n",
    "    \"\"\"\n",
    "    total_savings_rate = retirement_rate + savings_rate  # 12% for retirement + 5% for general savings = 17%\n",
    "    return salary * total_savings_rate\n",
    "\n",
    "# Get user inputs\n",
    "salary = float(input(\"Enter your annual salary: $\"))\n",
    "current_age = int(input(\"Enter your current age: \"))\n",
    "retirement_age = int(input(\"Enter your desired retirement age: \"))\n",
    "\n",
    "# Assumptions\n",
    "target_retirement_fund = 2_000_000  # Target savings at retirement\n",
    "years_until_retirement = retirement_age - current_age  # Years left to save\n",
    "retirement_rate = 0.12  # 12% into retirement\n",
    "savings_rate = 0.05  # 5% into savings\n",
    "\n",
    "if years_until_retirement <= 0:\n",
    "    print(\"Error: Retirement age must be greater than your current age.\")\n",
    "else:\n",
    "    # Compute required annual savings for retirement\n",
    "    annual_retirement_savings = calculate_required_savings(target_retirement_fund, years_until_retirement)\n",
    "\n",
    "    # Compute actual annual savings based on salary\n",
    "    actual_savings = calculate_savings_rate(salary, retirement_rate, savings_rate)\n",
    "\n",
    "    # Output results\n",
    "    print(f\"\\nTo retire with ${target_retirement_fund:,} by age {retirement_age}:\")\n",
    "    print(f\"- You need to save: ${annual_retirement_savings:.2f} per year for retirement\")\n",
    "    print(f\"- With your current salary (${salary:,}), you are saving ${actual_savings:.2f} per year (12% retirement + 5% savings).\")\n",
    "\n",
    "    # Check if the savings are enough\n",
    "    if actual_savings >= annual_retirement_savings:\n",
    "        print(\"You are on track for retirement! Keep up the good work!\")\n",
    "    else:\n",
    "        shortfall = annual_retirement_savings - actual_savings\n",
    "        print(f\"You need to save an additional ${shortfall:.2f} per year to stay on track.\")"
   ]
  },
  {
   "cell_type": "markdown",
   "metadata": {},
   "source": [
    "#### What salary do you need to retire when you want with the amount that you specified? Please include citations or justification for the formulas you're using to compute all of this.\n",
    "\n",
    "\n",
    "\n",
    "https://us.planswell.com/en-US/discovery/GD-Search-Discovery-US-CALI?_gl=1*102hxlr*_gcl_aw*R0NMLjE3NDM2MzM1NjcuQ2p3S0NBand3TE9fQmhCMkVpd0F4MmUtMzNVVTJQeDdxWmRJRUlUb3JENnotYXppbmw5QkZ6akhGaldnS2d2ZTVpUk1zRU5ORm16UnV4b0NWLWdRQXZEX0J3RQ..*_ga*MTYyNjMzNzk2NC4xNzQzNjMzNTY3*_ga_N46JXJRGH9*MTc0MzYzMzU2Ni4xLjAuMTc0MzYzMzU2Ni42MC4wLjA."
   ]
  },
  {
   "cell_type": "code",
   "execution_count": 9,
   "metadata": {},
   "outputs": [
    {
     "name": "stdout",
     "output_type": "stream",
     "text": [
      "\n",
      " Salary Breakdown for $90,000.0 (Age 22 → Retirement at 60):\n",
      "   - Federal Taxes: $15,107.16 / year\n",
      "   - California Taxes: $4,361.37 / year\n",
      "   - FICA Taxes (SS + Medicare): $6,885.00 / year\n",
      "   - Total Taxes Paid: $26,353.53 per year ($2,196.13 per month)\n",
      "   -12% to Retirement: $10,800.00 / year\n",
      "   -5% to Savings: $4,500.00 / year\n",
      "   -After Taxes & Savings: $48,346.47 / year ($4,028.87 per month)\n",
      "   -Monthly Cost of Living: $3,216.67\n",
      "Money Left After Expenses: **$812.21 per month** \n"
     ]
    }
   ],
   "source": [
    "def calculate_federal_taxes(annual_salary):\n",
    "    brackets = [\n",
    "        (0, 11000, 0.10),\n",
    "        (11001, 44725, 0.12),\n",
    "        (44726, 95375, 0.22),\n",
    "        (95376, 182100, 0.24),\n",
    "        (182101, 231250, 0.32),\n",
    "        (231251, 578125, 0.35),\n",
    "        (578126, float(\"inf\"), 0.37),\n",
    "    ]\n",
    "\n",
    "    tax = 0\n",
    "    for lower, upper, rate in brackets:\n",
    "        if annual_salary > lower:\n",
    "            taxable_income = min(annual_salary, upper) - lower\n",
    "            tax += taxable_income * rate\n",
    "        else:\n",
    "            break\n",
    "    return tax\n",
    "\n",
    "def calculate_california_taxes(annual_salary):\n",
    "    \"\"\"\n",
    "    Calculates California state income tax based on 2024 brackets.\n",
    "    \"\"\"\n",
    "    brackets = [\n",
    "        (0, 10499, 0.01),\n",
    "        (10500, 33299, 0.02),\n",
    "        (33300, 52479, 0.04),\n",
    "        (52480, 66299, 0.06),\n",
    "        (66300, 338639, 0.093),\n",
    "        (338640, 406364, 0.103),\n",
    "        (406365, 677275, 0.113),\n",
    "        (677276, float(\"inf\"), 0.123),\n",
    "    ]\n",
    "\n",
    "    tax = 0\n",
    "    for lower, upper, rate in brackets:\n",
    "        if annual_salary > lower:\n",
    "            taxable_income = min(annual_salary, upper) - lower\n",
    "            tax += taxable_income * rate\n",
    "        else:\n",
    "            break\n",
    "    return tax\n",
    "\n",
    "def calculate_fica_taxes(annual_salary):\n",
    "    \"\"\"\n",
    "    Calculates FICA taxes (Social Security + Medicare).\n",
    "    - Social Security: 6.2% on income up to $168,600 (2024 limit)\n",
    "    - Medicare: 1.45% on all income (+0.9% extra over $200,000)\n",
    "    \"\"\"\n",
    "    ss_rate = 0.062\n",
    "    medicare_rate = 0.0145\n",
    "    additional_medicare_rate = 0.009  # For income over $200k\n",
    "\n",
    "    social_security_tax = min(annual_salary, 168600) * ss_rate\n",
    "    medicare_tax = annual_salary * medicare_rate\n",
    "\n",
    "    if annual_salary > 200000:\n",
    "        medicare_tax += (annual_salary - 200000) * additional_medicare_rate\n",
    "\n",
    "    return social_security_tax + medicare_tax\n",
    "\n",
    "def calculate_required_savings(target_retirement_fund, years_until_retirement, annual_return=0.07):\n",
    "    \"\"\"\n",
    "    Calculates the annual savings needed for retirement.\n",
    "    \"\"\"\n",
    "    r = annual_return\n",
    "    t = years_until_retirement\n",
    "\n",
    "    annual_savings = (target_retirement_fund * r) / ((1 + r) ** t - 1)\n",
    "    return annual_savings\n",
    "\n",
    "# Get user inputs\n",
    "salary = float(input(\"Enter your annual salary: $\"))\n",
    "current_age = int(input(\"Enter your current age: \"))\n",
    "retirement_age = int(input(\"Enter your desired retirement age: \"))\n",
    "\n",
    "# Cost of Living Breakdown\n",
    "costofliv = housing + utilities + gas + insurance + internet + food + entertainment + emergency + studentloans\n",
    "\n",
    "# Calculate Tax Deductions\n",
    "federal_tax = calculate_federal_taxes(salary)\n",
    "california_tax = calculate_california_taxes(salary)\n",
    "fica_tax = calculate_fica_taxes(salary)\n",
    "total_annual_taxes = federal_tax + california_tax + fica_tax\n",
    "monthly_tax = total_annual_taxes / 12\n",
    "\n",
    "# Calculate Savings & Retirement Contributions\n",
    "years_until_retirement = retirement_age - current_age\n",
    "target_retirement_fund = 2_000_000\n",
    "annual_retirement_savings = calculate_required_savings(target_retirement_fund, years_until_retirement)\n",
    "\n",
    "annual_retirement_contribution = salary * 0.12\n",
    "annual_savings_contribution = salary * 0.05\n",
    "total_annual_savings = annual_retirement_contribution + annual_savings_contribution\n",
    "\n",
    "# Calculate Final Take-Home Pay\n",
    "annual_after_tax = salary - total_annual_taxes - total_annual_savings\n",
    "monthly_after_tax = annual_after_tax / 12\n",
    "money_left_after_expenses = monthly_after_tax - costofliv\n",
    "\n",
    "# Print Results\n",
    "print(f\"\\n Salary Breakdown for ${salary:,} (Age {current_age} → Retirement at {retirement_age}):\")\n",
    "print(f\"   - Federal Taxes: ${federal_tax:,.2f} / year\")\n",
    "print(f\"   - California Taxes: ${california_tax:,.2f} / year\")\n",
    "print(f\"   - FICA Taxes (SS + Medicare): ${fica_tax:,.2f} / year\")\n",
    "print(f\"   - Total Taxes Paid: ${total_annual_taxes:,.2f} per year (${monthly_tax:,.2f} per month)\")\n",
    "\n",
    "print(f\"   -12% to Retirement: ${annual_retirement_contribution:,.2f} / year\")\n",
    "print(f\"   -5% to Savings: ${annual_savings_contribution:,.2f} / year\")\n",
    "print(f\"   -After Taxes & Savings: ${annual_after_tax:,.2f} / year (${monthly_after_tax:,.2f} per month)\")\n",
    "print(f\"   -Monthly Cost of Living: ${costofliv:,.2f}\")\n",
    "\n",
    "if money_left_after_expenses >= 0:\n",
    "    print(f\"Money Left After Expenses: **${money_left_after_expenses:,.2f} per month** \")\n",
    "else:\n",
    "    print(f\"Shortfall of **${-money_left_after_expenses:,.2f} per month**. Consider increasing your salary or reducing expenses.\")"
   ]
  },
  {
   "cell_type": "markdown",
   "metadata": {},
   "source": [
    "### Question 5: What methods/models/topics are you most interested in learning about as part of this class?"
   ]
  },
  {
   "cell_type": "markdown",
   "metadata": {},
   "source": [
    "I'm excited to learn about neural networks."
   ]
  }
 ],
 "metadata": {
  "language_info": {
   "name": "python"
  }
 },
 "nbformat": 4,
 "nbformat_minor": 2
}
