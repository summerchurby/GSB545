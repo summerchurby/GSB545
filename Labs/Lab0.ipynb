{
 "cells": [
  {
   "cell_type": "markdown",
   "metadata": {},
   "source": [
    "# Lab 0: Personal Finance"
   ]
  },
  {
   "cell_type": "markdown",
   "metadata": {},
   "source": [
    "### Question 1: What were your reasons for pursuing this MSBA program here at Cal Poly? Did you come straight from another academic program (Bachelors, Masters, etc.) or were you working before this? What program(s) or job did you come from?\n",
    "\n",
    "I chose to pursue a degree in M.S. Business Analytics because I wanted to gain specific skills, and I also did research on the salary that is expected of people that work in that specific industry. I had applied to a handful of universities in California and decided to pick Cal Poly because of the Learn by Doing motto. I had completed my undergrad degree the spring semester before the MSBA program started, and I completed a B.S. Business Administration degree with a double major in Marketing and Management with a Business Analytics minor. While in undergrad, I had 5 different internships during the course of summer breaks and during the school year."
   ]
  },
  {
   "cell_type": "markdown",
   "metadata": {},
   "source": [
    "### Question 2: What job or career do you hope to pursue after graduating from this MSBA program? Do you have particular industries or companies in mind? If so, what are they? Do you have particular places in mind that you'd like to live or work? Why are you interested in these companies, etc.?"
   ]
  },
  {
   "cell_type": "markdown",
   "metadata": {},
   "source": [
    "### Question 3: If you haven't already started thinking about your finances after graduation, let's start! You should use Python to store relevant values and perform the calculations described below:\n",
    "\n",
    "#### What is your estimate of the cost-of-living in your desired place to live, per month? You should justify this estimate by citing online sources or other relevant information. You should also break this down into component costs (e.g. housing, utilities, car, gas, internet, food, entertainment, etc.) as much as you can. \n",
    "\n",
    "Housing: $2,500\n",
    "Utilities: $150\n",
    "Car payment: non existent\n",
    "Gas: $240\n",
    "Insurance(Car, renters, health): $2,000/12\n",
    "Internet: $60\n",
    "Food: $400/ $100 a week\n",
    "Entertainment: $200\n",
    "Rainy Day Fund: $200\n",
    "\n",
    "\n",
    "#### What is the annual salary you need to afford the costs you outlined above? This should, in essence, be the minimum salary you need to afford the life you could live happily (you could probably survive on less, but let's not get too detailed here). Be careful to consider whether you're taking taxes into account! We don't need to get too detailed here either, but you should try to estimate what your actual take-home pay is versus the gross salary that you might be presented with in the offer from your employer.\n",
    "\n",
    "\n",
    "\n",
    "*The prices are based on living in So Cal in the future.\n",
    "https://www.zillow.com/irvine-ca/rentals/?searchQueryState=%7B%22pagination%22%3A%7B%7D%2C%22isMapVisible%22%3Atrue%2C%22mapBounds%22%3A%7B%22west%22%3A-118.0441036845703%2C%22east%22%3A-117.50440031542968%2C%22south%22%3A33.51690184023123%2C%22north%22%3A33.85685105990931%7D%2C%22regionSelection%22%3A%5B%7B%22regionId%22%3A52650%2C%22regionType%22%3A6%7D%5D%2C%22filterState%22%3A%7B%22fr%22%3A%7B%22value%22%3Atrue%7D%2C%22fsba%22%3A%7B%22value%22%3Afalse%7D%2C%22fsbo%22%3A%7B%22value%22%3Afalse%7D%2C%22nc%22%3A%7B%22value%22%3Afalse%7D%2C%22cmsn%22%3A%7B%22value%22%3Afalse%7D%2C%22auc%22%3A%7B%22value%22%3Afalse%7D%2C%22fore%22%3A%7B%22value%22%3Afalse%7D%2C%22beds%22%3A%7B%22min%22%3A1%7D%7D%2C%22isListVisible%22%3Atrue%2C%22mapZoom%22%3A11%2C%22usersSearchTerm%22%3A%22Irvine%20CA%22%7D\n",
    "\n",
    "\n"
   ]
  },
  {
   "cell_type": "code",
   "execution_count": 1,
   "metadata": {},
   "outputs": [],
   "source": [
    "# calculate cost of living\n",
    "housing = 2500\n",
    "utilities = 150\n",
    "gas = 240\n",
    "insurance = 2000/12\n",
    "internet = 60\n",
    "food = 400\n",
    "entertainment = 200\n",
    "emergency = 200"
   ]
  },
  {
   "cell_type": "markdown",
   "metadata": {},
   "source": [
    "#### What is the annual salary you WANT? I imagine this will be higher than what was previously mentioned. What do you want the additional income for?\n",
    "\n",
    "#### Finally, when do you want to retire and with how much money? This is where the bulk of your computations for this assignment will be, and you may need to do some research into how these things are computed. Your job may have retirement funding built into it; it may not. Additionally, there are some calculators online that do some of these types of calculations for you. I'd like you to (re-)do these calculations as much as possible on your own in Python.\n",
    "\n",
    "#### What salary do you need to retire when you want with the amount that you specified? Please include citations or justification for the formulas you're using to compute all of this."
   ]
  },
  {
   "cell_type": "markdown",
   "metadata": {},
   "source": [
    "### Question 5: What methods/models/topics are you most interested in learning about as part of this class?"
   ]
  },
  {
   "cell_type": "code",
   "execution_count": null,
   "metadata": {},
   "outputs": [],
   "source": []
  }
 ],
 "metadata": {
  "language_info": {
   "name": "python"
  }
 },
 "nbformat": 4,
 "nbformat_minor": 2
}
